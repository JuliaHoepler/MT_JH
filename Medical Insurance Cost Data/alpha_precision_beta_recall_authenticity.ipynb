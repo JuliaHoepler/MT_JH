{
 "cells": [
  {
   "cell_type": "code",
   "execution_count": 3,
   "id": "59958ac8-f397-4ec9-9cd3-55c033e2b33d",
   "metadata": {},
   "outputs": [],
   "source": [
    "import pandas as pd\n",
    "import random\n",
    "import os\n",
    "from synthcity.metrics.eval_statistical import AlphaPrecision\n",
    "from synthcity.plugins.core.dataloader import GenericDataLoader\n",
    "\n",
    "# Load real data once\n",
    "real = pd.read_csv(\"Data/medical_insurance_2.csv\")\n",
    "real['tar'] = random.choices([0, 1], k=len(real))\n",
    "data_loader_real = GenericDataLoader(real)\n",
    "data_loader_real_encoded = data_loader_real.encode()[0]"
   ]
  },
  {
   "cell_type": "code",
   "execution_count": 4,
   "id": "7261fab0-85d8-4afe-8ba8-1359ea84641b",
   "metadata": {},
   "outputs": [],
   "source": [
    "methods = [\"synthpop\", \"arf\", \"privbayes\", \"ctgan\", \"tvae\", \"tabsyn\"]\n",
    "num_datasets = 5\n",
    "\n",
    "# Store results\n",
    "results = {}\n",
    "\n",
    "for method in methods:\n",
    "    method_results = []\n",
    "    for i in range(1, num_datasets + 1):\n",
    "        syn_path = f\"Data/{method}/syn_medical_insurance_{method}_{i}.csv\"\n",
    "        \n",
    "        if not os.path.exists(syn_path):\n",
    "            print(f\"File not found: {syn_path}\")\n",
    "            continue\n",
    "        \n",
    "        syn = pd.read_csv(syn_path)\n",
    "        syn['tar'] = random.choices([0, 1], k=len(syn))\n",
    "        data_loader_syn = GenericDataLoader(syn)\n",
    "        data_loader_syn_encoded = data_loader_syn.encode()[0]\n",
    "\n",
    "        metric_pra = AlphaPrecision()\n",
    "        pra = metric_pra._evaluate(data_loader_real_encoded, data_loader_syn_encoded)\n",
    "        pra_oc = list(pra.values())[:3]\n",
    "        \n",
    "        method_results.append(pra_oc)\n",
    "    \n",
    "    results[method] = method_results"
   ]
  },
  {
   "cell_type": "code",
   "execution_count": 7,
   "id": "7eb7ff38-9572-423d-824a-c3e050d4023f",
   "metadata": {},
   "outputs": [
    {
     "name": "stdout",
     "output_type": "stream",
     "text": [
      "{'synthpop': [[0.9902572523262179, 0.31467051467051455, 0.70995670995671], [0.9841667910633428, 0.32311207311207313, 0.6962481962481962], [0.981065996583238, 0.31185666185666194, 0.6984126984126984], [0.9893275945000083, 0.31945646945646944, 0.6991341991341992], [0.9824907531804083, 0.3232082732082733, 0.6854256854256854]], 'arf': [[0.9475991441508683, 0.2172919672919672, 0.7842712842712842], [0.9513351909903635, 0.22443482443482465, 0.7954545454545454], [0.9632880529432254, 0.22979797979797978, 0.7723665223665224], [0.9717934683451925, 0.21899951899951897, 0.7781385281385281], [0.9696015989119438, 0.21659451659451656, 0.7846320346320347]], 'privbayes': [[0.7245310245310246, 0.1539923039923039, 0.8376623376623377], [0.7178210678210677, 0.16048581048581034, 0.838023088023088], [0.7313131313131314, 0.1544492544492544, 0.8459595959595959], [0.7138047138047139, 0.1505291005291005, 0.816017316017316], [0.737999037999038, 0.1527176527176528, 0.8448773448773449]], 'ctgan': [[0.9326458343699723, 0.1987012987012987, 0.786075036075036], [0.9569537741951535, 0.19102934102934122, 0.8326118326118326], [0.9482227861538206, 0.1925685425685424, 0.8170995670995671], [0.9349737108357798, 0.19446849446849457, 0.8037518037518038], [0.9374757426481565, 0.20591630591630583, 0.8275613275613276]], 'tvae': [[0.8804232804232804, 0.16267436267436253, 0.8322510822510822], [0.9024050024050024, 0.16402116402116418, 0.8311688311688312], [0.8914862914862915, 0.1712361712361712, 0.8272005772005772], [0.9007936507936508, 0.16580086580086584, 0.8412698412698413], [0.8988455988455988, 0.16738816738816753, 0.8225108225108225]], 'tabsyn': [[0.9819931664759252, 0.23874458874458881, 0.7813852813852814], [0.9814026969199383, 0.24644059644059635, 0.7546897546897547], [0.9817203230996334, 0.226936026936027, 0.7799422799422799], [0.9800136007032559, 0.23023088023088034, 0.7745310245310245], [0.9780531090875919, 0.23451178451178456, 0.7756132756132756]]}\n"
     ]
    }
   ],
   "source": [
    "print(results)"
   ]
  },
  {
   "cell_type": "code",
   "execution_count": 5,
   "id": "375ea3ad-7092-4b0e-9b67-3b991572b11e",
   "metadata": {},
   "outputs": [
    {
     "name": "stdout",
     "output_type": "stream",
     "text": [
      "Long-format results saved to alpha_precision_results_long.csv\n"
     ]
    }
   ],
   "source": [
    "# Define metric names\n",
    "metric_names = [\"alpha_precision\", \"beta_recall\", \"authenticity\"]\n",
    "\n",
    "# Build long-format rows\n",
    "rows = []\n",
    "for method, method_results in results.items():\n",
    "    for i, pra_values in enumerate(method_results, 1):\n",
    "        for metric_index, metric_name in enumerate(metric_names):\n",
    "            value = pra_values[metric_index] if len(pra_values) > metric_index else None\n",
    "            rows.append({\n",
    "                \"method\": method,\n",
    "                \"dataset_index\": i,\n",
    "                \"metric\": metric_name,\n",
    "                \"value\": value\n",
    "            })\n",
    "\n",
    "# Create DataFrame\n",
    "df_long = pd.DataFrame(rows)\n",
    "\n",
    "# Save to CSV\n",
    "df_long.to_csv(\"alpha_precision_results_long.csv\", index=False)\n",
    "print(\"Long-format results saved to alpha_precision_results_long.csv\")"
   ]
  },
  {
   "cell_type": "code",
   "execution_count": 6,
   "id": "81893bf6-e8d3-4abf-8a9b-82ead700e3b5",
   "metadata": {},
   "outputs": [
    {
     "name": "stdout",
     "output_type": "stream",
     "text": [
      "Mittelwerte pro Methode gespeichert in alpha_precision_results_means.csv\n"
     ]
    }
   ],
   "source": [
    "# Berechne den Mittelwert pro Methode und Metrik\n",
    "mean_df = df_long.groupby([\"method\", \"metric\"])[\"value\"].mean().reset_index()\n",
    "\n",
    "# Optional: schöner formatieren\n",
    "mean_df = mean_df.pivot(index=\"method\", columns=\"metric\", values=\"value\").reset_index()\n",
    "\n",
    "# Speichern als CSV\n",
    "mean_df.to_csv(\"alpha_precision_results_means.csv\", index=False)\n",
    "print(\"Mittelwerte pro Methode gespeichert in alpha_precision_results_means.csv\")"
   ]
  },
  {
   "cell_type": "code",
   "execution_count": null,
   "id": "659f944d-acf6-4507-9867-3d318516a570",
   "metadata": {},
   "outputs": [],
   "source": []
  }
 ],
 "metadata": {
  "kernelspec": {
   "display_name": "Python 3 (ipykernel)",
   "language": "python",
   "name": "python3"
  },
  "language_info": {
   "codemirror_mode": {
    "name": "ipython",
    "version": 3
   },
   "file_extension": ".py",
   "mimetype": "text/x-python",
   "name": "python",
   "nbconvert_exporter": "python",
   "pygments_lexer": "ipython3",
   "version": "3.11.5"
  }
 },
 "nbformat": 4,
 "nbformat_minor": 5
}
