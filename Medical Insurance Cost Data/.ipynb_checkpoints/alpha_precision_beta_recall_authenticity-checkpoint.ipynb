{
 "cells": [
  {
   "cell_type": "code",
   "execution_count": 1,
   "id": "59958ac8-f397-4ec9-9cd3-55c033e2b33d",
   "metadata": {},
   "outputs": [
    {
     "name": "stdout",
     "output_type": "stream",
     "text": [
      "[KeOps] Warning : \n",
      "    The default C++ compiler could not be found on your system.\n",
      "    You need to either define the CXX environment variable or a symlink to the g++ command.\n",
      "    For example if g++-8 is the command you can do\n",
      "      import os\n",
      "      os.environ['CXX'] = 'g++-8'\n",
      "    \n",
      "[KeOps] Warning : Cuda libraries were not detected on the system or could not be loaded ; using cpu only mode\n"
     ]
    }
   ],
   "source": [
    "import pandas as pd\n",
    "import random\n",
    "import os\n",
    "from synthcity.metrics.eval_statistical import AlphaPrecision\n",
    "from synthcity.plugins.core.dataloader import GenericDataLoader\n",
    "\n",
    "# Load real data once\n",
    "real = pd.read_csv(\"Data/medical_insurance_2.csv\")\n",
    "real['tar'] = random.choices([0, 1], k=len(real))\n",
    "data_loader_real = GenericDataLoader(real)\n",
    "data_loader_real_encoded = data_loader_real.encode()[0]"
   ]
  },
  {
   "cell_type": "code",
   "execution_count": 2,
   "id": "7261fab0-85d8-4afe-8ba8-1359ea84641b",
   "metadata": {},
   "outputs": [
    {
     "ename": "ValueError",
     "evalue": "The test_size = 555 should be greater or equal to the number of classes = 1337",
     "output_type": "error",
     "traceback": [
      "\u001b[1;31m---------------------------------------------------------------------------\u001b[0m",
      "\u001b[1;31mValueError\u001b[0m                                Traceback (most recent call last)",
      "Cell \u001b[1;32mIn[2], line 22\u001b[0m\n\u001b[0;32m     19\u001b[0m data_loader_syn_encoded \u001b[38;5;241m=\u001b[39m data_loader_syn\u001b[38;5;241m.\u001b[39mencode()[\u001b[38;5;241m0\u001b[39m]\n\u001b[0;32m     21\u001b[0m metric_pra \u001b[38;5;241m=\u001b[39m AlphaPrecision()\n\u001b[1;32m---> 22\u001b[0m pra \u001b[38;5;241m=\u001b[39m metric_pra\u001b[38;5;241m.\u001b[39m_evaluate(data_loader_real_encoded, data_loader_syn_encoded)\n\u001b[0;32m     23\u001b[0m pra_oc \u001b[38;5;241m=\u001b[39m \u001b[38;5;28mlist\u001b[39m(pra\u001b[38;5;241m.\u001b[39mvalues())[:\u001b[38;5;241m3\u001b[39m]\n\u001b[0;32m     25\u001b[0m method_results\u001b[38;5;241m.\u001b[39mappend(pra_oc)\n",
      "File \u001b[1;32m~\\anaconda3\\Lib\\site-packages\\pydantic\\decorator.py:40\u001b[0m, in \u001b[0;36mpydantic.decorator.validate_arguments.validate.wrapper_function\u001b[1;34m()\u001b[0m\n",
      "File \u001b[1;32m~\\anaconda3\\Lib\\site-packages\\pydantic\\decorator.py:134\u001b[0m, in \u001b[0;36mpydantic.decorator.ValidatedFunction.call\u001b[1;34m()\u001b[0m\n",
      "File \u001b[1;32m~\\anaconda3\\Lib\\site-packages\\pydantic\\decorator.py:206\u001b[0m, in \u001b[0;36mpydantic.decorator.ValidatedFunction.execute\u001b[1;34m()\u001b[0m\n",
      "File \u001b[1;32m~\\anaconda3\\Lib\\site-packages\\synthcity\\metrics\\eval_statistical.py:738\u001b[0m, in \u001b[0;36mAlphaPrecision._evaluate\u001b[1;34m(self, X, X_syn)\u001b[0m\n\u001b[0;32m    735\u001b[0m results[\u001b[38;5;124mf\u001b[39m\u001b[38;5;124m\"\u001b[39m\u001b[38;5;124mdelta_coverage_beta\u001b[39m\u001b[38;5;132;01m{\u001b[39;00memb\u001b[38;5;132;01m}\u001b[39;00m\u001b[38;5;124m\"\u001b[39m] \u001b[38;5;241m=\u001b[39m Delta_coverage_beta\n\u001b[0;32m    736\u001b[0m results[\u001b[38;5;124mf\u001b[39m\u001b[38;5;124m\"\u001b[39m\u001b[38;5;124mauthenticity\u001b[39m\u001b[38;5;132;01m{\u001b[39;00memb\u001b[38;5;132;01m}\u001b[39;00m\u001b[38;5;124m\"\u001b[39m] \u001b[38;5;241m=\u001b[39m authenticity\n\u001b[1;32m--> 738\u001b[0m X_df, X_syn_df \u001b[38;5;241m=\u001b[39m \u001b[38;5;28mself\u001b[39m\u001b[38;5;241m.\u001b[39m_normalize_covariates(X, X_syn)\n\u001b[0;32m    739\u001b[0m (\n\u001b[0;32m    740\u001b[0m     alphas_naive,\n\u001b[0;32m    741\u001b[0m     alpha_precision_curve_naive,\n\u001b[1;32m   (...)\u001b[0m\n\u001b[0;32m    745\u001b[0m     authenticity_naive,\n\u001b[0;32m    746\u001b[0m ) \u001b[38;5;241m=\u001b[39m \u001b[38;5;28mself\u001b[39m\u001b[38;5;241m.\u001b[39mmetrics(X_df\u001b[38;5;241m.\u001b[39mto_numpy(), X_syn_df\u001b[38;5;241m.\u001b[39mto_numpy(), emb_center\u001b[38;5;241m=\u001b[39m\u001b[38;5;28;01mNone\u001b[39;00m)\n\u001b[0;32m    748\u001b[0m results[\u001b[38;5;124m\"\u001b[39m\u001b[38;5;124mdelta_precision_alpha_naive\u001b[39m\u001b[38;5;124m\"\u001b[39m] \u001b[38;5;241m=\u001b[39m Delta_precision_alpha_naive\n",
      "File \u001b[1;32m~\\anaconda3\\Lib\\site-packages\\synthcity\\metrics\\eval_statistical.py:682\u001b[0m, in \u001b[0;36mAlphaPrecision._normalize_covariates\u001b[1;34m(self, X, X_syn)\u001b[0m\n\u001b[0;32m    676\u001b[0m scaler \u001b[38;5;241m=\u001b[39m MinMaxScaler()\u001b[38;5;241m.\u001b[39mfit(X_gt_norm)\n\u001b[0;32m    677\u001b[0m \u001b[38;5;28;01mif\u001b[39;00m \u001b[38;5;28mhasattr\u001b[39m(X, \u001b[38;5;124m\"\u001b[39m\u001b[38;5;124mtarget_column\u001b[39m\u001b[38;5;124m\"\u001b[39m):\n\u001b[0;32m    678\u001b[0m     X_gt_norm_df \u001b[38;5;241m=\u001b[39m pd\u001b[38;5;241m.\u001b[39mDataFrame(\n\u001b[0;32m    679\u001b[0m         scaler\u001b[38;5;241m.\u001b[39mtransform(X_gt_norm),\n\u001b[0;32m    680\u001b[0m         columns\u001b[38;5;241m=\u001b[39m[\n\u001b[0;32m    681\u001b[0m             col\n\u001b[1;32m--> 682\u001b[0m             \u001b[38;5;28;01mfor\u001b[39;00m col \u001b[38;5;129;01min\u001b[39;00m X\u001b[38;5;241m.\u001b[39mtrain()\u001b[38;5;241m.\u001b[39mdataframe()\u001b[38;5;241m.\u001b[39mcolumns\n\u001b[0;32m    683\u001b[0m             \u001b[38;5;28;01mif\u001b[39;00m col \u001b[38;5;241m!=\u001b[39m X\u001b[38;5;241m.\u001b[39mtarget_column\n\u001b[0;32m    684\u001b[0m         ],\n\u001b[0;32m    685\u001b[0m     )\n\u001b[0;32m    686\u001b[0m \u001b[38;5;28;01melse\u001b[39;00m:\n\u001b[0;32m    687\u001b[0m     X_gt_norm_df \u001b[38;5;241m=\u001b[39m pd\u001b[38;5;241m.\u001b[39mDataFrame(\n\u001b[0;32m    688\u001b[0m         scaler\u001b[38;5;241m.\u001b[39mtransform(X_gt_norm), columns\u001b[38;5;241m=\u001b[39mX\u001b[38;5;241m.\u001b[39mtrain()\u001b[38;5;241m.\u001b[39mdataframe()\u001b[38;5;241m.\u001b[39mcolumns\n\u001b[0;32m    689\u001b[0m     )\n",
      "File \u001b[1;32m~\\anaconda3\\Lib\\site-packages\\synthcity\\plugins\\core\\dataloader.py:457\u001b[0m, in \u001b[0;36mGenericDataLoader.train\u001b[1;34m(self)\u001b[0m\n\u001b[0;32m    456\u001b[0m \u001b[38;5;28;01mdef\u001b[39;00m \u001b[38;5;21mtrain\u001b[39m(\u001b[38;5;28mself\u001b[39m) \u001b[38;5;241m-\u001b[39m\u001b[38;5;241m>\u001b[39m \u001b[38;5;124m\"\u001b[39m\u001b[38;5;124mDataLoader\u001b[39m\u001b[38;5;124m\"\u001b[39m:\n\u001b[1;32m--> 457\u001b[0m     train_data, _ \u001b[38;5;241m=\u001b[39m \u001b[38;5;28mself\u001b[39m\u001b[38;5;241m.\u001b[39m_train_test_split()\n\u001b[0;32m    458\u001b[0m     \u001b[38;5;28;01mreturn\u001b[39;00m \u001b[38;5;28mself\u001b[39m\u001b[38;5;241m.\u001b[39mdecorate(train_data\u001b[38;5;241m.\u001b[39mreset_index(drop\u001b[38;5;241m=\u001b[39m\u001b[38;5;28;01mTrue\u001b[39;00m))\n",
      "File \u001b[1;32m~\\anaconda3\\Lib\\site-packages\\synthcity\\plugins\\core\\dataloader.py:449\u001b[0m, in \u001b[0;36mGenericDataLoader._train_test_split\u001b[1;34m(self)\u001b[0m\n\u001b[0;32m    446\u001b[0m     \u001b[38;5;28;01mif\u001b[39;00m target\u001b[38;5;241m.\u001b[39mvalue_counts()\u001b[38;5;241m.\u001b[39mmin() \u001b[38;5;241m>\u001b[39m \u001b[38;5;241m1\u001b[39m:\n\u001b[0;32m    447\u001b[0m         stratify \u001b[38;5;241m=\u001b[39m target\n\u001b[1;32m--> 449\u001b[0m \u001b[38;5;28;01mreturn\u001b[39;00m train_test_split(\n\u001b[0;32m    450\u001b[0m     \u001b[38;5;28mself\u001b[39m\u001b[38;5;241m.\u001b[39mdata,\n\u001b[0;32m    451\u001b[0m     train_size\u001b[38;5;241m=\u001b[39m\u001b[38;5;28mself\u001b[39m\u001b[38;5;241m.\u001b[39mtrain_size,\n\u001b[0;32m    452\u001b[0m     random_state\u001b[38;5;241m=\u001b[39m\u001b[38;5;28mself\u001b[39m\u001b[38;5;241m.\u001b[39mrandom_state,\n\u001b[0;32m    453\u001b[0m     stratify\u001b[38;5;241m=\u001b[39mstratify,\n\u001b[0;32m    454\u001b[0m )\n",
      "File \u001b[1;32m~\\anaconda3\\Lib\\site-packages\\sklearn\\utils\\_param_validation.py:216\u001b[0m, in \u001b[0;36mvalidate_params.<locals>.decorator.<locals>.wrapper\u001b[1;34m(*args, **kwargs)\u001b[0m\n\u001b[0;32m    210\u001b[0m \u001b[38;5;28;01mtry\u001b[39;00m:\n\u001b[0;32m    211\u001b[0m     \u001b[38;5;28;01mwith\u001b[39;00m config_context(\n\u001b[0;32m    212\u001b[0m         skip_parameter_validation\u001b[38;5;241m=\u001b[39m(\n\u001b[0;32m    213\u001b[0m             prefer_skip_nested_validation \u001b[38;5;129;01mor\u001b[39;00m global_skip_validation\n\u001b[0;32m    214\u001b[0m         )\n\u001b[0;32m    215\u001b[0m     ):\n\u001b[1;32m--> 216\u001b[0m         \u001b[38;5;28;01mreturn\u001b[39;00m func(\u001b[38;5;241m*\u001b[39margs, \u001b[38;5;241m*\u001b[39m\u001b[38;5;241m*\u001b[39mkwargs)\n\u001b[0;32m    217\u001b[0m \u001b[38;5;28;01mexcept\u001b[39;00m InvalidParameterError \u001b[38;5;28;01mas\u001b[39;00m e:\n\u001b[0;32m    218\u001b[0m     \u001b[38;5;66;03m# When the function is just a wrapper around an estimator, we allow\u001b[39;00m\n\u001b[0;32m    219\u001b[0m     \u001b[38;5;66;03m# the function to delegate validation to the estimator, but we replace\u001b[39;00m\n\u001b[0;32m    220\u001b[0m     \u001b[38;5;66;03m# the name of the estimator by the name of the function in the error\u001b[39;00m\n\u001b[0;32m    221\u001b[0m     \u001b[38;5;66;03m# message to avoid confusion.\u001b[39;00m\n\u001b[0;32m    222\u001b[0m     msg \u001b[38;5;241m=\u001b[39m re\u001b[38;5;241m.\u001b[39msub(\n\u001b[0;32m    223\u001b[0m         \u001b[38;5;124mr\u001b[39m\u001b[38;5;124m\"\u001b[39m\u001b[38;5;124mparameter of \u001b[39m\u001b[38;5;124m\\\u001b[39m\u001b[38;5;124mw+ must be\u001b[39m\u001b[38;5;124m\"\u001b[39m,\n\u001b[0;32m    224\u001b[0m         \u001b[38;5;124mf\u001b[39m\u001b[38;5;124m\"\u001b[39m\u001b[38;5;124mparameter of \u001b[39m\u001b[38;5;132;01m{\u001b[39;00mfunc\u001b[38;5;241m.\u001b[39m\u001b[38;5;18m__qualname__\u001b[39m\u001b[38;5;132;01m}\u001b[39;00m\u001b[38;5;124m must be\u001b[39m\u001b[38;5;124m\"\u001b[39m,\n\u001b[0;32m    225\u001b[0m         \u001b[38;5;28mstr\u001b[39m(e),\n\u001b[0;32m    226\u001b[0m     )\n",
      "File \u001b[1;32m~\\anaconda3\\Lib\\site-packages\\sklearn\\model_selection\\_split.py:2872\u001b[0m, in \u001b[0;36mtrain_test_split\u001b[1;34m(test_size, train_size, random_state, shuffle, stratify, *arrays)\u001b[0m\n\u001b[0;32m   2868\u001b[0m         CVClass \u001b[38;5;241m=\u001b[39m ShuffleSplit\n\u001b[0;32m   2870\u001b[0m     cv \u001b[38;5;241m=\u001b[39m CVClass(test_size\u001b[38;5;241m=\u001b[39mn_test, train_size\u001b[38;5;241m=\u001b[39mn_train, random_state\u001b[38;5;241m=\u001b[39mrandom_state)\n\u001b[1;32m-> 2872\u001b[0m     train, test \u001b[38;5;241m=\u001b[39m \u001b[38;5;28mnext\u001b[39m(cv\u001b[38;5;241m.\u001b[39msplit(X\u001b[38;5;241m=\u001b[39marrays[\u001b[38;5;241m0\u001b[39m], y\u001b[38;5;241m=\u001b[39mstratify))\n\u001b[0;32m   2874\u001b[0m train, test \u001b[38;5;241m=\u001b[39m ensure_common_namespace_device(arrays[\u001b[38;5;241m0\u001b[39m], train, test)\n\u001b[0;32m   2876\u001b[0m \u001b[38;5;28;01mreturn\u001b[39;00m \u001b[38;5;28mlist\u001b[39m(\n\u001b[0;32m   2877\u001b[0m     chain\u001b[38;5;241m.\u001b[39mfrom_iterable(\n\u001b[0;32m   2878\u001b[0m         (_safe_indexing(a, train), _safe_indexing(a, test)) \u001b[38;5;28;01mfor\u001b[39;00m a \u001b[38;5;129;01min\u001b[39;00m arrays\n\u001b[0;32m   2879\u001b[0m     )\n\u001b[0;32m   2880\u001b[0m )\n",
      "File \u001b[1;32m~\\anaconda3\\Lib\\site-packages\\sklearn\\model_selection\\_split.py:1909\u001b[0m, in \u001b[0;36mBaseShuffleSplit.split\u001b[1;34m(self, X, y, groups)\u001b[0m\n\u001b[0;32m   1879\u001b[0m \u001b[38;5;250m\u001b[39m\u001b[38;5;124;03m\"\"\"Generate indices to split data into training and test set.\u001b[39;00m\n\u001b[0;32m   1880\u001b[0m \n\u001b[0;32m   1881\u001b[0m \u001b[38;5;124;03mParameters\u001b[39;00m\n\u001b[1;32m   (...)\u001b[0m\n\u001b[0;32m   1906\u001b[0m \u001b[38;5;124;03mto an integer.\u001b[39;00m\n\u001b[0;32m   1907\u001b[0m \u001b[38;5;124;03m\"\"\"\u001b[39;00m\n\u001b[0;32m   1908\u001b[0m X, y, groups \u001b[38;5;241m=\u001b[39m indexable(X, y, groups)\n\u001b[1;32m-> 1909\u001b[0m \u001b[38;5;28;01mfor\u001b[39;00m train, test \u001b[38;5;129;01min\u001b[39;00m \u001b[38;5;28mself\u001b[39m\u001b[38;5;241m.\u001b[39m_iter_indices(X, y, groups):\n\u001b[0;32m   1910\u001b[0m     \u001b[38;5;28;01myield\u001b[39;00m train, test\n",
      "File \u001b[1;32m~\\anaconda3\\Lib\\site-packages\\sklearn\\model_selection\\_split.py:2331\u001b[0m, in \u001b[0;36mStratifiedShuffleSplit._iter_indices\u001b[1;34m(self, X, y, groups)\u001b[0m\n\u001b[0;32m   2326\u001b[0m     \u001b[38;5;28;01mraise\u001b[39;00m \u001b[38;5;167;01mValueError\u001b[39;00m(\n\u001b[0;32m   2327\u001b[0m         \u001b[38;5;124m\"\u001b[39m\u001b[38;5;124mThe train_size = \u001b[39m\u001b[38;5;132;01m%d\u001b[39;00m\u001b[38;5;124m should be greater or \u001b[39m\u001b[38;5;124m\"\u001b[39m\n\u001b[0;32m   2328\u001b[0m         \u001b[38;5;124m\"\u001b[39m\u001b[38;5;124mequal to the number of classes = \u001b[39m\u001b[38;5;132;01m%d\u001b[39;00m\u001b[38;5;124m\"\u001b[39m \u001b[38;5;241m%\u001b[39m (n_train, n_classes)\n\u001b[0;32m   2329\u001b[0m     )\n\u001b[0;32m   2330\u001b[0m \u001b[38;5;28;01mif\u001b[39;00m n_test \u001b[38;5;241m<\u001b[39m n_classes:\n\u001b[1;32m-> 2331\u001b[0m     \u001b[38;5;28;01mraise\u001b[39;00m \u001b[38;5;167;01mValueError\u001b[39;00m(\n\u001b[0;32m   2332\u001b[0m         \u001b[38;5;124m\"\u001b[39m\u001b[38;5;124mThe test_size = \u001b[39m\u001b[38;5;132;01m%d\u001b[39;00m\u001b[38;5;124m should be greater or \u001b[39m\u001b[38;5;124m\"\u001b[39m\n\u001b[0;32m   2333\u001b[0m         \u001b[38;5;124m\"\u001b[39m\u001b[38;5;124mequal to the number of classes = \u001b[39m\u001b[38;5;132;01m%d\u001b[39;00m\u001b[38;5;124m\"\u001b[39m \u001b[38;5;241m%\u001b[39m (n_test, n_classes)\n\u001b[0;32m   2334\u001b[0m     )\n\u001b[0;32m   2336\u001b[0m \u001b[38;5;66;03m# Find the sorted list of instances for each class:\u001b[39;00m\n\u001b[0;32m   2337\u001b[0m \u001b[38;5;66;03m# (np.unique above performs a sort, so code is O(n logn) already)\u001b[39;00m\n\u001b[0;32m   2338\u001b[0m class_indices \u001b[38;5;241m=\u001b[39m np\u001b[38;5;241m.\u001b[39msplit(\n\u001b[0;32m   2339\u001b[0m     np\u001b[38;5;241m.\u001b[39margsort(y_indices, kind\u001b[38;5;241m=\u001b[39m\u001b[38;5;124m\"\u001b[39m\u001b[38;5;124mmergesort\u001b[39m\u001b[38;5;124m\"\u001b[39m), np\u001b[38;5;241m.\u001b[39mcumsum(class_counts)[:\u001b[38;5;241m-\u001b[39m\u001b[38;5;241m1\u001b[39m]\n\u001b[0;32m   2340\u001b[0m )\n",
      "\u001b[1;31mValueError\u001b[0m: The test_size = 555 should be greater or equal to the number of classes = 1337"
     ]
    }
   ],
   "source": [
    "methods = [\"synthpop\", \"arf\", \"privbayes\", \"ctgan\", \"tvae\", \"tabsyn\"]\n",
    "num_datasets = 5\n",
    "\n",
    "# Store results\n",
    "results = {}\n",
    "\n",
    "for method in methods:\n",
    "    method_results = []\n",
    "    for i in range(1, num_datasets + 1):\n",
    "        syn_path = f\"Data/{method}/syn_medical_insurance_{method}_{i}.csv\"\n",
    "        \n",
    "        if not os.path.exists(syn_path):\n",
    "            print(f\"File not found: {syn_path}\")\n",
    "            continue\n",
    "        \n",
    "        syn = pd.read_csv(syn_path)\n",
    "        syn['tar'] = random.choices([0, 1], k=len(syn))\n",
    "        data_loader_syn = GenericDataLoader(syn)\n",
    "        data_loader_syn_encoded = data_loader_syn.encode()[0]\n",
    "\n",
    "        metric_pra = AlphaPrecision()\n",
    "        pra = metric_pra._evaluate(data_loader_real_encoded, data_loader_syn_encoded)\n",
    "        pra_oc = list(pra.values())[:3]\n",
    "        \n",
    "        method_results.append(pra_oc)\n",
    "    \n",
    "    results[method] = method_results"
   ]
  },
  {
   "cell_type": "code",
   "execution_count": null,
   "id": "375ea3ad-7092-4b0e-9b67-3b991572b11e",
   "metadata": {},
   "outputs": [],
   "source": [
    "# Define metric names\n",
    "metric_names = [\"alpha_precision\", \"beta_recall\", \"authenticity\"]\n",
    "\n",
    "# Build long-format rows\n",
    "rows = []\n",
    "for method, method_results in results.items():\n",
    "    for i, pra_values in enumerate(method_results, 1):\n",
    "        for metric_index, metric_name in enumerate(metric_names):\n",
    "            value = pra_values[metric_index] if len(pra_values) > metric_index else None\n",
    "            rows.append({\n",
    "                \"method\": method,\n",
    "                \"dataset_index\": i,\n",
    "                \"metric\": metric_name,\n",
    "                \"value\": value\n",
    "            })\n",
    "\n",
    "# Create DataFrame\n",
    "df_long = pd.DataFrame(rows)\n",
    "\n",
    "# Save to CSV\n",
    "df_long.to_csv(\"alpha_precision_results_long.csv\", index=False)\n",
    "print(\"Long-format results saved to alpha_precision_results_long.csv\")"
   ]
  },
  {
   "cell_type": "code",
   "execution_count": null,
   "id": "81893bf6-e8d3-4abf-8a9b-82ead700e3b5",
   "metadata": {},
   "outputs": [],
   "source": [
    "# Berechne den Mittelwert pro Methode und Metrik\n",
    "mean_df = df_long.groupby([\"method\", \"metric\"])[\"value\"].mean().reset_index()\n",
    "\n",
    "# Optional: schöner formatieren\n",
    "mean_df = mean_df.pivot(index=\"method\", columns=\"metric\", values=\"value\").reset_index()\n",
    "\n",
    "# Speichern als CSV\n",
    "mean_df.to_csv(\"alpha_precision_results_means.csv\", index=False)\n",
    "print(\"Mittelwerte pro Methode gespeichert in alpha_precision_results_means.csv\")"
   ]
  }
 ],
 "metadata": {
  "kernelspec": {
   "display_name": "Python 3 (ipykernel)",
   "language": "python",
   "name": "python3"
  },
  "language_info": {
   "codemirror_mode": {
    "name": "ipython",
    "version": 3
   },
   "file_extension": ".py",
   "mimetype": "text/x-python",
   "name": "python",
   "nbconvert_exporter": "python",
   "pygments_lexer": "ipython3",
   "version": "3.11.5"
  }
 },
 "nbformat": 4,
 "nbformat_minor": 5
}
