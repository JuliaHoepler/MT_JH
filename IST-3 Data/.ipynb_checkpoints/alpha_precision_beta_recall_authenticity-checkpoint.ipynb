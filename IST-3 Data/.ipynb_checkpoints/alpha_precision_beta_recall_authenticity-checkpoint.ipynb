{
 "cells": [
  {
   "cell_type": "code",
   "execution_count": 11,
   "id": "7b6f8945-e33d-41b9-a8ec-2832b0c928b6",
   "metadata": {},
   "outputs": [],
   "source": [
    "import pandas as pd\n",
    "import random\n",
    "import os\n",
    "from synthcity.metrics.eval_statistical import AlphaPrecision\n",
    "from synthcity.plugins.core.dataloader import GenericDataLoader\n",
    "\n",
    "# Load real data once\n",
    "real = pd.read_csv(\"Raw Data/data_small.csv\")\n",
    "real['tar'] = random.choices([0, 1], k=len(real))\n",
    "data_loader_real = GenericDataLoader(real)\n",
    "data_loader_real_encoded = data_loader_real.encode()[0]\n",
    "\n"
   ]
  },
  {
   "cell_type": "code",
   "execution_count": 2,
   "id": "e11a17cc-0495-45e6-95ab-d2f587270d98",
   "metadata": {},
   "outputs": [
    {
     "name": "stdout",
     "output_type": "stream",
     "text": [
      "   outcome itt_treat  nihss  randdelay vis_infarct   age\n",
      "0        2     rt-PA     10   3.616667          No  81.0\n",
      "1        1   Placebo     18   1.866667          No  92.0\n",
      "2        1   Placebo      4   5.083333          No  75.0\n",
      "3        1     rt-PA     13   4.333333         Yes  60.0\n",
      "4        2     rt-PA      6   1.916667          No  88.0\n"
     ]
    }
   ],
   "source": [
    "print(real.head())"
   ]
  },
  {
   "cell_type": "code",
   "execution_count": 13,
   "id": "5695157e-b14b-4d3f-a726-e15d643953e9",
   "metadata": {},
   "outputs": [
    {
     "name": "stdout",
     "output_type": "stream",
     "text": [
      "Results for tabsyn: [[0.9871680963472136, 0.492300933552993, 0.5024711696869851], [0.9803336552481584, 0.48733662822624935, 0.49028006589785833], [0.9796920979378515, 0.48085667215815486, 0.5090609555189456], [0.9771538942225757, 0.5115211422295443, 0.49357495881383856], [0.9774621750080479, 0.5011751784733663, 0.5064250411861615]]\n"
     ]
    }
   ],
   "source": [
    "methods = [\"synthpop\", \"arf\", \"privbayes\", \"ctgan\", \"tvae\", \"tabsyn\"]\n",
    "num_datasets = 5\n",
    "\n",
    "# Store results\n",
    "results = {}\n",
    "\n",
    "for method in methods:\n",
    "    method_results = []\n",
    "    for i in range(1, num_datasets + 1):\n",
    "        syn_path = f\"Data/{method}/syn_data_small_{method}_{i}.csv\"\n",
    "        \n",
    "        if not os.path.exists(syn_path):\n",
    "            print(f\"File not found: {syn_path}\")\n",
    "            continue\n",
    "        \n",
    "        syn = pd.read_csv(syn_path)\n",
    "        syn['tar'] = random.choices([0, 1], k=len(syn))\n",
    "        data_loader_syn = GenericDataLoader(syn)\n",
    "        data_loader_syn_encoded = data_loader_syn.encode()[0]\n",
    "\n",
    "        metric_pra = AlphaPrecision()\n",
    "        pra = metric_pra._evaluate(data_loader_real_encoded, data_loader_syn_encoded)\n",
    "        pra_oc = list(pra.values())[:3]\n",
    "        \n",
    "        method_results.append(pra_oc)\n",
    "    \n",
    "    results[method] = method_results\n",
    "\n",
    "# Example: print results for one method\n",
    "print(\"Results for tabsyn:\", results[\"tabsyn\"])"
   ]
  },
  {
   "cell_type": "code",
   "execution_count": 14,
   "id": "13682fb6-bf13-4a65-8d83-6e31e1b77d93",
   "metadata": {},
   "outputs": [
    {
     "name": "stdout",
     "output_type": "stream",
     "text": [
      "{'synthpop': [[0.9873476112026359, 0.5822075782537067, 0.4408566721581549], [0.9818084038705523, 0.5923997803404724, 0.44217462932454693], [0.9840405991402981, 0.5838769906644701, 0.4270181219110379], [0.9865886496619894, 0.5874135090609556, 0.42800658978583195], [0.9914575167111667, 0.6010543657331137, 0.44349258649093903]], 'arf': [[0.9682069344240565, 0.5008896210873147, 0.4932454695222405], [0.9708276998238937, 0.5018561230093355, 0.485667215815486], [0.9578541536480524, 0.4954200988467875, 0.49654036243822075], [0.9532784184514004, 0.50277869302581, 0.49719934102141683], [0.9448654585392642, 0.4805930807248765, 0.5126853377265239]], 'privbayes': [[0.6674135090609555, 0.32518396485447565, 0.6319604612850083], [0.6676990664470072, 0.32628226249313563, 0.6217462932454695], [0.6598572213069742, 0.31507962657880273, 0.6260296540362438], [0.6825480505216914, 0.31967051070840213, 0.6088962108731466], [0.6725755079626579, 0.31079626578802855, 0.6164744645799012]], 'ctgan': [[0.9525883845556629, 0.45100494233937405, 0.5789126853377266], [0.9535859417902252, 0.44393190554640316, 0.5802306425041186], [0.9686242875267473, 0.4477979132344865, 0.5594728171334432], [0.9528171334431631, 0.45089511257550796, 0.5907742998352553], [0.9610581529663504, 0.4452498627127952, 0.5841845140032949]], 'tvae': [[0.9821507697551554, 0.4858209774848984, 0.5222405271828665], [0.9843685735386014, 0.4944755628775398, 0.5103789126853377], [0.9540457119051676, 0.48777594728171325, 0.5014827018121911], [0.9742339373970346, 0.4970675453047776, 0.5107084019769358], [0.978343085458918, 0.4936188907193849, 0.4939044481054366]], 'tabsyn': [[0.9871680963472136, 0.492300933552993, 0.5024711696869851], [0.9803336552481584, 0.48733662822624935, 0.49028006589785833], [0.9796920979378515, 0.48085667215815486, 0.5090609555189456], [0.9771538942225757, 0.5115211422295443, 0.49357495881383856], [0.9774621750080479, 0.5011751784733663, 0.5064250411861615]]}\n"
     ]
    }
   ],
   "source": [
    "print(results)"
   ]
  },
  {
   "cell_type": "code",
   "execution_count": 15,
   "id": "d4402355-52b6-4faf-95c0-a7a1e7a855d8",
   "metadata": {},
   "outputs": [
    {
     "name": "stdout",
     "output_type": "stream",
     "text": [
      "Long-format results saved to alpha_precision_results_long.csv\n"
     ]
    }
   ],
   "source": [
    "# Define metric names\n",
    "metric_names = [\"alpha_precision\", \"beta_recall\", \"authenticity\"]\n",
    "\n",
    "# Build long-format rows\n",
    "rows = []\n",
    "for method, method_results in results.items():\n",
    "    for i, pra_values in enumerate(method_results, 1):\n",
    "        for metric_index, metric_name in enumerate(metric_names):\n",
    "            value = pra_values[metric_index] if len(pra_values) > metric_index else None\n",
    "            rows.append({\n",
    "                \"method\": method,\n",
    "                \"dataset_index\": i,\n",
    "                \"metric\": metric_name,\n",
    "                \"value\": value\n",
    "            })\n",
    "\n",
    "# Create DataFrame\n",
    "df_long = pd.DataFrame(rows)\n",
    "\n",
    "# Save to CSV\n",
    "df_long.to_csv(\"alpha_precision_results_long.csv\", index=False)\n",
    "print(\"Long-format results saved to alpha_precision_results_long.csv\")"
   ]
  },
  {
   "cell_type": "code",
   "execution_count": 17,
   "id": "15d287b1-5f08-40da-8270-d9a40e71b7b6",
   "metadata": {},
   "outputs": [
    {
     "name": "stdout",
     "output_type": "stream",
     "text": [
      "Mittelwerte pro Methode gespeichert in alpha_precision_results_means.csv\n"
     ]
    }
   ],
   "source": [
    "# Berechne den Mittelwert pro Methode und Metrik\n",
    "mean_df = df_long.groupby([\"method\", \"metric\"])[\"value\"].mean().reset_index()\n",
    "\n",
    "# Optional: schöner formatieren\n",
    "mean_df = mean_df.pivot(index=\"method\", columns=\"metric\", values=\"value\").reset_index()\n",
    "\n",
    "# Speichern als CSV\n",
    "mean_df.to_csv(\"alpha_precision_results_means.csv\", index=False)\n",
    "print(\"Mittelwerte pro Methode gespeichert in alpha_precision_results_means.csv\")\n"
   ]
  },
  {
   "cell_type": "code",
   "execution_count": null,
   "id": "d5456311-92f3-4a4d-95a0-5c1431302078",
   "metadata": {},
   "outputs": [],
   "source": []
  }
 ],
 "metadata": {
  "kernelspec": {
   "display_name": "Python 3 (ipykernel)",
   "language": "python",
   "name": "python3"
  },
  "language_info": {
   "codemirror_mode": {
    "name": "ipython",
    "version": 3
   },
   "file_extension": ".py",
   "mimetype": "text/x-python",
   "name": "python",
   "nbconvert_exporter": "python",
   "pygments_lexer": "ipython3",
   "version": "3.11.5"
  }
 },
 "nbformat": 4,
 "nbformat_minor": 5
}
