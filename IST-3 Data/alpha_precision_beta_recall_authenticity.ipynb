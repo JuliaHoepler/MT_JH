{
 "cells": [
  {
   "cell_type": "code",
   "execution_count": 1,
   "id": "7b6f8945-e33d-41b9-a8ec-2832b0c928b6",
   "metadata": {},
   "outputs": [
    {
     "name": "stdout",
     "output_type": "stream",
     "text": [
      "[KeOps] Warning : \n",
      "    The default C++ compiler could not be found on your system.\n",
      "    You need to either define the CXX environment variable or a symlink to the g++ command.\n",
      "    For example if g++-8 is the command you can do\n",
      "      import os\n",
      "      os.environ['CXX'] = 'g++-8'\n",
      "    \n",
      "[KeOps] Warning : Cuda libraries were not detected on the system or could not be loaded ; using cpu only mode\n"
     ]
    }
   ],
   "source": [
    "import pandas as pd\n",
    "import random\n",
    "import os\n",
    "from synthcity.metrics.eval_statistical import AlphaPrecision\n",
    "from synthcity.plugins.core.dataloader import GenericDataLoader\n",
    "\n",
    "# Load real data once\n",
    "real = pd.read_csv(\"Raw Data/data_small.csv\")\n",
    "real['tar'] = random.choices([0, 1], k=len(real))\n",
    "data_loader_real = GenericDataLoader(real)\n",
    "data_loader_real_encoded = data_loader_real.encode()[0]"
   ]
  },
  {
   "cell_type": "code",
   "execution_count": 2,
   "id": "e11a17cc-0495-45e6-95ab-d2f587270d98",
   "metadata": {},
   "outputs": [
    {
     "name": "stdout",
     "output_type": "stream",
     "text": [
      "   outcome itt_treat  nihss  randdelay vis_infarct   age  tar\n",
      "0        2     rt-PA     10   3.616667          No  81.0    0\n",
      "1        1   Placebo     18   1.866667          No  92.0    1\n",
      "2        1   Placebo      4   5.083333          No  75.0    1\n",
      "3        1     rt-PA     13   4.333333         Yes  60.0    0\n",
      "4        2     rt-PA      6   1.916667          No  88.0    0\n"
     ]
    }
   ],
   "source": [
    "print(real.head())"
   ]
  },
  {
   "cell_type": "code",
   "execution_count": 3,
   "id": "5695157e-b14b-4d3f-a726-e15d643953e9",
   "metadata": {},
   "outputs": [
    {
     "name": "stdout",
     "output_type": "stream",
     "text": [
      "Results for tabsyn: [[0.9794338086311045, 0.46756727073036797, 0.499835255354201], [0.9718025336590354, 0.48215266337177376, 0.4876441515650741], [0.9825257058455945, 0.4906534870950029, 0.49093904448105435], [0.9726584483705429, 0.48199890170236137, 0.5228995057660626], [0.9864030752333882, 0.4898846787479407, 0.5169686985172982]]\n"
     ]
    }
   ],
   "source": [
    "methods = [\"synthpop\", \"arf\", \"privbayes\", \"ctgan\", \"tvae\", \"tabsyn\"]\n",
    "num_datasets = 5\n",
    "\n",
    "# Store results\n",
    "results = {}\n",
    "\n",
    "for method in methods:\n",
    "    method_results = []\n",
    "    for i in range(1, num_datasets + 1):\n",
    "        syn_path = f\"Data/{method}/syn_data_small_{method}_{i}.csv\"\n",
    "        \n",
    "        if not os.path.exists(syn_path):\n",
    "            print(f\"File not found: {syn_path}\")\n",
    "            continue\n",
    "        \n",
    "        syn = pd.read_csv(syn_path)\n",
    "        syn['tar'] = random.choices([0, 1], k=len(syn))\n",
    "        data_loader_syn = GenericDataLoader(syn)\n",
    "        data_loader_syn_encoded = data_loader_syn.encode()[0]\n",
    "\n",
    "        metric_pra = AlphaPrecision()\n",
    "        pra = metric_pra._evaluate(data_loader_real_encoded, data_loader_syn_encoded)\n",
    "        pra_oc = list(pra.values())[:3]\n",
    "        \n",
    "        method_results.append(pra_oc)\n",
    "    \n",
    "    results[method] = method_results\n",
    "\n",
    "# Example: print results for one method\n",
    "print(\"Results for tabsyn:\", results[\"tabsyn\"])"
   ]
  },
  {
   "cell_type": "code",
   "execution_count": 4,
   "id": "13682fb6-bf13-4a65-8d83-6e31e1b77d93",
   "metadata": {},
   "outputs": [
    {
     "name": "stdout",
     "output_type": "stream",
     "text": [
      "{'synthpop': [[0.9900304872275559, 0.5360571114772104, 0.47775947281713343], [0.992483099471681, 0.5487095002745743, 0.4645799011532125], [0.9899373212899316, 0.5297968149368478, 0.47215815485996704], [0.993374614175614, 0.5348050521691379, 0.48533772652388796], [0.992130129334015, 0.5467105985722132, 0.4599670510708402]], 'arf': [[0.967966823836846, 0.477056562328391, 0.5070840197693575], [0.9696536575204984, 0.501900054914882, 0.48467874794069193], [0.9649090117214869, 0.5038769906644701, 0.4883031301482702], [0.9519740953246606, 0.48235035694673256, 0.48599670510708404], [0.9548077032324036, 0.4675013728720484, 0.5182866556836903]], 'privbayes': [[0.6770126304228445, 0.29741900054914894, 0.6230642504118616], [0.6764854475562878, 0.2695002745744097, 0.6204283360790774], [0.6583415705656233, 0.2907633168588688, 0.6171334431630972], [0.6828775398132895, 0.3047116968698518, 0.6131795716639209], [0.6704448105436572, 0.30642504118616143, 0.5957166392092257]], 'ctgan': [[0.8803840254502073, 0.3993190554640307, 0.5950576606260296], [0.8906201594425193, 0.4078418451400331, 0.5884678747940691], [0.8823609611997955, 0.4018451400329489, 0.6069192751235585], [0.8764521199038042, 0.38879736408566723, 0.5980230642504119], [0.8788244428033101, 0.4072267984623834, 0.5904448105436574]], 'tvae': [[0.9634812247912288, 0.4611312465678199, 0.5186161449752883], [0.9758919881080876, 0.47797913234486555, 0.5202635914332784], [0.954907686189854, 0.4838660076880835, 0.5327841845140033], [0.9684265939517885, 0.46519494783086224, 0.5166392092257002], [0.9599409191615066, 0.4758264689730918, 0.5258649093904448]], 'tabsyn': [[0.9794338086311045, 0.46756727073036797, 0.499835255354201], [0.9718025336590354, 0.48215266337177376, 0.4876441515650741], [0.9825257058455945, 0.4906534870950029, 0.49093904448105435], [0.9726584483705429, 0.48199890170236137, 0.5228995057660626], [0.9864030752333882, 0.4898846787479407, 0.5169686985172982]]}\n"
     ]
    }
   ],
   "source": [
    "print(results)"
   ]
  },
  {
   "cell_type": "code",
   "execution_count": 5,
   "id": "d4402355-52b6-4faf-95c0-a7a1e7a855d8",
   "metadata": {},
   "outputs": [
    {
     "name": "stdout",
     "output_type": "stream",
     "text": [
      "Long-format results saved to alpha_precision_results_long.csv\n"
     ]
    }
   ],
   "source": [
    "# Define metric names\n",
    "metric_names = [\"alpha_precision\", \"beta_recall\", \"authenticity\"]\n",
    "\n",
    "# Build long-format rows\n",
    "rows = []\n",
    "for method, method_results in results.items():\n",
    "    for i, pra_values in enumerate(method_results, 1):\n",
    "        for metric_index, metric_name in enumerate(metric_names):\n",
    "            value = pra_values[metric_index] if len(pra_values) > metric_index else None\n",
    "            rows.append({\n",
    "                \"method\": method,\n",
    "                \"dataset_index\": i,\n",
    "                \"metric\": metric_name,\n",
    "                \"value\": value\n",
    "            })\n",
    "\n",
    "# Create DataFrame\n",
    "df_long = pd.DataFrame(rows)\n",
    "\n",
    "# Save to CSV\n",
    "df_long.to_csv(\"alpha_precision_results_long.csv\", index=False)\n",
    "print(\"Long-format results saved to alpha_precision_results_long.csv\")"
   ]
  },
  {
   "cell_type": "code",
   "execution_count": 6,
   "id": "15d287b1-5f08-40da-8270-d9a40e71b7b6",
   "metadata": {},
   "outputs": [
    {
     "name": "stdout",
     "output_type": "stream",
     "text": [
      "Mittelwerte pro Methode gespeichert in alpha_precision_results_means.csv\n"
     ]
    }
   ],
   "source": [
    "# Berechne den Mittelwert pro Methode und Metrik\n",
    "mean_df = df_long.groupby([\"method\", \"metric\"])[\"value\"].mean().reset_index()\n",
    "\n",
    "# Optional: schöner formatieren\n",
    "mean_df = mean_df.pivot(index=\"method\", columns=\"metric\", values=\"value\").reset_index()\n",
    "\n",
    "# Speichern als CSV\n",
    "mean_df.to_csv(\"alpha_precision_results_means.csv\", index=False)\n",
    "print(\"Mittelwerte pro Methode gespeichert in alpha_precision_results_means.csv\")\n"
   ]
  },
  {
   "cell_type": "code",
   "execution_count": null,
   "id": "d5456311-92f3-4a4d-95a0-5c1431302078",
   "metadata": {},
   "outputs": [],
   "source": []
  }
 ],
 "metadata": {
  "kernelspec": {
   "display_name": "Python 3 (ipykernel)",
   "language": "python",
   "name": "python3"
  },
  "language_info": {
   "codemirror_mode": {
    "name": "ipython",
    "version": 3
   },
   "file_extension": ".py",
   "mimetype": "text/x-python",
   "name": "python",
   "nbconvert_exporter": "python",
   "pygments_lexer": "ipython3",
   "version": "3.11.5"
  }
 },
 "nbformat": 4,
 "nbformat_minor": 5
}
