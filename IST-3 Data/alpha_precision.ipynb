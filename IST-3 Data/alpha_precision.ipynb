{
 "cells": [
  {
   "cell_type": "code",
   "execution_count": 2,
   "id": "f6cd27c0-4a19-4e12-929c-fcf25d7fa88e",
   "metadata": {},
   "outputs": [
    {
     "name": "stdout",
     "output_type": "stream",
     "text": [
      "D:\\Master Statistik\\Masterarbeit\\masterarbeit\\IST-3 Data\n"
     ]
    }
   ],
   "source": [
    "import pandas as pd\n",
    "import random\n",
    "import pyreadr\n",
    "from synthcity.metrics.eval_statistical import AlphaPrecision\n",
    "from synthcity.plugins.core.dataloader import GenericDataLoader\n",
    "import os\n",
    "\n",
    "print(os.getcwd())"
   ]
  },
  {
   "cell_type": "code",
   "execution_count": 3,
   "id": "ec085afb-d537-4ce4-b828-96001e2943f3",
   "metadata": {},
   "outputs": [],
   "source": [
    "# Read .Rds file\n",
    "result = pyreadr.read_r(\"Raw Data/data_small.Rds\")\n",
    "\n",
    "# Extract the DataFrame (usually only one object in the dict)\n",
    "real = list(result.values())[0]\n",
    "\n",
    "syn = pd.read_csv(\"Data/tabsyn/syn_data_small_tabsyn_1.csv\")"
   ]
  },
  {
   "cell_type": "code",
   "execution_count": 4,
   "id": "4a533f04-33bd-47ca-9066-243a55918c9b",
   "metadata": {},
   "outputs": [],
   "source": [
    "# OC\n",
    "\n",
    "data_loader_real = GenericDataLoader(real)\n",
    "data_loader_syn = GenericDataLoader(syn)\n",
    "\n",
    "data_loader_real_encoded = data_loader_real.encode()[0]\n",
    "data_loader_syn_encoded = data_loader_syn.encode()[0]\n",
    "\n",
    "metric_pra = AlphaPrecision()\n",
    "\n",
    "pra = metric_pra._evaluate(data_loader_real_encoded, data_loader_syn_encoded)\n",
    "pra_oc = list(pra.values())[:3]\n",
    "\n",
    "# for naive, add random target (there is a mistake in synthcity function _normalize_covariates wit target variable)\n",
    "real['tar'] = random.choices([0, 1], k=len(real))\n",
    "syn['tar'] = random.choices([0, 1], k=len(syn))\n",
    "\n",
    "data_loader_real = GenericDataLoader(real)\n",
    "data_loader_syn = GenericDataLoader(syn)\n",
    "\n",
    "data_loader_real_encoded = data_loader_real.encode()[0]\n",
    "data_loader_syn_encoded = data_loader_syn.encode()[0]\n",
    "\n",
    "metric_pra = AlphaPrecision()\n",
    "\n",
    "pra = metric_pra._evaluate(data_loader_real_encoded, data_loader_syn_encoded)\n",
    "pra_naive = list(pra.values())[3:6]"
   ]
  },
  {
   "cell_type": "code",
   "execution_count": 5,
   "id": "c8b4a163-d56c-4b04-9f48-7a250fb68b75",
   "metadata": {},
   "outputs": [
    {
     "name": "stdout",
     "output_type": "stream",
     "text": [
      "{'delta_precision_alpha_OC': 0.9776394175235282, 'delta_coverage_beta_OC': 0.49021416803953877, 'authenticity_OC': 0.5018121911037892, 'delta_precision_alpha_naive': 0.9852608456891818, 'delta_coverage_beta_naive': 0.5127292696320701, 'authenticity_naive': 0.5024711696869851}\n"
     ]
    }
   ],
   "source": [
    "print(pra)"
   ]
  },
  {
   "cell_type": "code",
   "execution_count": 7,
   "id": "f05b8108-14f2-4197-851e-19b1e4e63e18",
   "metadata": {},
   "outputs": [
    {
     "name": "stdout",
     "output_type": "stream",
     "text": [
      "[0.9852608456891818, 0.5127292696320701, 0.5024711696869851]\n"
     ]
    }
   ],
   "source": [
    "print(pra_naive)"
   ]
  },
  {
   "cell_type": "code",
   "execution_count": null,
   "id": "f14658f2-bc21-42a7-8124-96c51ac58772",
   "metadata": {},
   "outputs": [],
   "source": []
  }
 ],
 "metadata": {
  "kernelspec": {
   "display_name": "Python 3 (ipykernel)",
   "language": "python",
   "name": "python3"
  },
  "language_info": {
   "codemirror_mode": {
    "name": "ipython",
    "version": 3
   },
   "file_extension": ".py",
   "mimetype": "text/x-python",
   "name": "python",
   "nbconvert_exporter": "python",
   "pygments_lexer": "ipython3",
   "version": "3.11.5"
  }
 },
 "nbformat": 4,
 "nbformat_minor": 5
}
