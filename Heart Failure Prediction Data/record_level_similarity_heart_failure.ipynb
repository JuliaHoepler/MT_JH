{
 "cells": [
  {
   "cell_type": "code",
   "execution_count": 1,
   "id": "aa0d8dc7-338d-42c2-9fed-965b51219d58",
   "metadata": {},
   "outputs": [
    {
     "name": "stdout",
     "output_type": "stream",
     "text": [
      "[KeOps] Warning : \n",
      "    The default C++ compiler could not be found on your system.\n",
      "    You need to either define the CXX environment variable or a symlink to the g++ command.\n",
      "    For example if g++-8 is the command you can do\n",
      "      import os\n",
      "      os.environ['CXX'] = 'g++-8'\n",
      "    \n",
      "[KeOps] Warning : Cuda libraries were not detected on the system or could not be loaded ; using cpu only mode\n"
     ]
    }
   ],
   "source": [
    "import pandas as pd\n",
    "import random\n",
    "import os\n",
    "from synthcity.plugins.core.dataloader import GenericDataLoader\n",
    "from synthcity.metrics.eval_sanity import CommonRowsProportion\n",
    "from synthcity.metrics.eval_sanity import NearestSyntheticNeighborDistance\n",
    "from synthcity.metrics.eval_statistical import ChiSquaredTest\n",
    "\n",
    "# Load real train data\n",
    "real_train = pd.read_csv(\"Raw Data/real_train.csv\")\n",
    "data_loader_real_train = GenericDataLoader(real_train)\n",
    "data_loader_real_train_encoded = data_loader_real_train.encode()[0]\n",
    "\n",
    "# Load real holdout data\n",
    "real_holdout = pd.read_csv(\"Raw Data/real_holdout.csv\")\n",
    "data_loader_real_holdout = GenericDataLoader(real_holdout)\n",
    "data_loader_real_holdout_encoded = data_loader_real_holdout.encode()[0]"
   ]
  },
  {
   "cell_type": "code",
   "execution_count": 14,
   "id": "4cccf81e-9c35-4b29-bbe4-6d67dbc7b13d",
   "metadata": {},
   "outputs": [
    {
     "name": "stdout",
     "output_type": "stream",
     "text": [
      "     Age  Sex  ChestPainType  RestingBP  Cholesterol  FastingBS  RestingECG  \\\n",
      "0     40    1              1        140          289          0           1   \n",
      "1     37    1              1        130          283          0           2   \n",
      "2     54    1              1        110          208          0           1   \n",
      "3     43    0              1        150          186          0           1   \n",
      "4     41    0              1        110          250          0           2   \n",
      "..   ...  ...            ...        ...          ...        ...         ...   \n",
      "179   49    1              1        130          266          0           1   \n",
      "180   67    1              0        160          286          0           0   \n",
      "181   35    1              1        122          192          0           1   \n",
      "182   67    1              2        152          212          0           0   \n",
      "183   63    1              0        140          187          0           0   \n",
      "\n",
      "     MaxHR  ExerciseAngina  Oldpeak  ST_Slope  HeartDisease  \n",
      "0      172               0      0.0         2             0  \n",
      "1       98               0      0.0         2             0  \n",
      "2      142               0      0.0         2             0  \n",
      "3      154               0      0.0         2             0  \n",
      "4      142               0      0.0         2             0  \n",
      "..     ...             ...      ...       ...           ...  \n",
      "179    171               0      0.6         2             0  \n",
      "180    108               1      1.5         1             1  \n",
      "181    174               0      0.0         2             0  \n",
      "182    150               0      0.8         1             1  \n",
      "183    144               1      4.0         2             1  \n",
      "\n",
      "[184 rows x 12 columns]\n"
     ]
    }
   ],
   "source": [
    "print(data_loader_real_holdout_encoded)"
   ]
  },
  {
   "cell_type": "code",
   "execution_count": 2,
   "id": "beeabe9b-b3eb-47b5-a2a7-e4e24f5d4382",
   "metadata": {},
   "outputs": [
    {
     "name": "stdout",
     "output_type": "stream",
     "text": [
      "{'score': 0.0}\n"
     ]
    }
   ],
   "source": [
    "metric_ims_holdout = CommonRowsProportion()\n",
    "ims_holdout = metric_ims_holdout.evaluate(data_loader_real_train_encoded, data_loader_real_holdout_encoded)\n",
    "print(ims_holdout)"
   ]
  },
  {
   "cell_type": "code",
   "execution_count": 8,
   "id": "343cf0ba-ce9d-442e-9801-f92fff5202e3",
   "metadata": {},
   "outputs": [
    {
     "name": "stdout",
     "output_type": "stream",
     "text": [
      "{'mean': 0.12695340937910018}\n",
      "DCR raw output: {'mean': 0.12695340937910018}\n"
     ]
    }
   ],
   "source": [
    "metric_dcr_holdout = NearestSyntheticNeighborDistance()\n",
    "dcr_holdout = metric_dcr_holdout.evaluate(data_loader_real_train_encoded, data_loader_real_holdout_encoded)\n",
    "print(dcr_holdout)\n",
    "print(\"DCR raw output:\", dcr_holdout)\n"
   ]
  },
  {
   "cell_type": "code",
   "execution_count": 10,
   "id": "c05ae42b-a677-4f25-8a3a-8b48a01552ac",
   "metadata": {},
   "outputs": [
    {
     "name": "stdout",
     "output_type": "stream",
     "text": [
      "synthpop - Dataset 1 => IMS: 0.0041, DCR: 0.1023\n",
      "synthpop - Dataset 2 => IMS: 0.0027, DCR: 0.1060\n",
      "synthpop - Dataset 3 => IMS: 0.0000, DCR: 0.1002\n",
      "synthpop - Dataset 4 => IMS: 0.0000, DCR: 0.1628\n",
      "synthpop - Dataset 5 => IMS: 0.0027, DCR: 0.1036\n",
      "arf - Dataset 1 => IMS: 0.0000, DCR: 0.1127\n",
      "arf - Dataset 2 => IMS: 0.0000, DCR: 0.1025\n",
      "arf - Dataset 3 => IMS: 0.0000, DCR: 0.1085\n",
      "arf - Dataset 4 => IMS: 0.0000, DCR: 0.1406\n",
      "arf - Dataset 5 => IMS: 0.0000, DCR: 0.1851\n",
      "privbayes - Dataset 1 => IMS: 0.0000, DCR: 0.0993\n",
      "privbayes - Dataset 2 => IMS: 0.0000, DCR: 0.1292\n",
      "privbayes - Dataset 3 => IMS: 0.0000, DCR: 0.1285\n",
      "privbayes - Dataset 4 => IMS: 0.0000, DCR: 0.1031\n",
      "privbayes - Dataset 5 => IMS: 0.0000, DCR: 0.1045\n",
      "ctgan - Dataset 1 => IMS: 0.0000, DCR: 0.0752\n",
      "ctgan - Dataset 2 => IMS: 0.0000, DCR: 0.1202\n",
      "ctgan - Dataset 3 => IMS: 0.0000, DCR: 0.0847\n",
      "ctgan - Dataset 4 => IMS: 0.0000, DCR: 0.1593\n",
      "ctgan - Dataset 5 => IMS: 0.0000, DCR: 0.1237\n",
      "tvae - Dataset 1 => IMS: 0.0000, DCR: 0.0536\n",
      "tvae - Dataset 2 => IMS: 0.0000, DCR: 0.0508\n",
      "tvae - Dataset 3 => IMS: 0.0000, DCR: 0.0536\n",
      "tvae - Dataset 4 => IMS: 0.0000, DCR: 0.0506\n",
      "tvae - Dataset 5 => IMS: 0.0000, DCR: 0.0547\n",
      "tabsyn - Dataset 1 => IMS: 0.0000, DCR: 0.1806\n",
      "tabsyn - Dataset 2 => IMS: 0.0000, DCR: 0.1059\n",
      "tabsyn - Dataset 3 => IMS: 0.0000, DCR: 0.1440\n",
      "tabsyn - Dataset 4 => IMS: 0.0000, DCR: 0.2079\n",
      "tabsyn - Dataset 5 => IMS: 0.0000, DCR: 0.1099\n",
      "       method  dataset_id  ims_score  dcr_score\n",
      "0    synthpop           1   0.004087   0.102337\n",
      "1    synthpop           2   0.002725   0.106001\n",
      "2    synthpop           3   0.000000   0.100250\n",
      "3    synthpop           4   0.000000   0.162765\n",
      "4    synthpop           5   0.002725   0.103626\n",
      "5         arf           1   0.000000   0.112679\n",
      "6         arf           2   0.000000   0.102508\n",
      "7         arf           3   0.000000   0.108523\n",
      "8         arf           4   0.000000   0.140644\n",
      "9         arf           5   0.000000   0.185055\n",
      "10  privbayes           1   0.000000   0.099260\n",
      "11  privbayes           2   0.000000   0.129176\n",
      "12  privbayes           3   0.000000   0.128507\n",
      "13  privbayes           4   0.000000   0.103081\n",
      "14  privbayes           5   0.000000   0.104507\n",
      "15      ctgan           1   0.000000   0.075188\n",
      "16      ctgan           2   0.000000   0.120171\n",
      "17      ctgan           3   0.000000   0.084695\n",
      "18      ctgan           4   0.000000   0.159319\n",
      "19      ctgan           5   0.000000   0.123682\n",
      "20       tvae           1   0.000000   0.053631\n",
      "21       tvae           2   0.000000   0.050789\n",
      "22       tvae           3   0.000000   0.053634\n",
      "23       tvae           4   0.000000   0.050551\n",
      "24       tvae           5   0.000000   0.054678\n",
      "25     tabsyn           1   0.000000   0.180606\n",
      "26     tabsyn           2   0.000000   0.105913\n",
      "27     tabsyn           3   0.000000   0.143954\n",
      "28     tabsyn           4   0.000000   0.207918\n",
      "29     tabsyn           5   0.000000   0.109879\n"
     ]
    }
   ],
   "source": [
    "methods = [\"synthpop\", \"arf\", \"privbayes\", \"ctgan\", \"tvae\", \"tabsyn\"]\n",
    "num_datasets = 5\n",
    "\n",
    "# Store results\n",
    "results = {}\n",
    "\n",
    "for method in methods:\n",
    "    method_results = []\n",
    "\n",
    "    for i in range(1, num_datasets + 1):\n",
    "        syn_path = f\"Data/train_data/{method}/syn_real_train_{method}_{i}.csv\"\n",
    "        \n",
    "        if not os.path.exists(syn_path):\n",
    "            print(f\"File not found: {syn_path}\")\n",
    "            continue\n",
    "\n",
    "        syn_df = pd.read_csv(syn_path)\n",
    "        data_loader_syn = GenericDataLoader(syn_df)\n",
    "        data_loader_syn_encoded = data_loader_syn.encode()[0]\n",
    "\n",
    "        # Compute CommonRowsProportion\n",
    "        metric_ims = CommonRowsProportion()\n",
    "        ims_score = metric_ims.evaluate(data_loader_real_train_encoded, data_loader_syn_encoded)\n",
    "\n",
    "        # Compute NearestSyntheticNeighborDistance\n",
    "        metric_dcr = NearestSyntheticNeighborDistance()\n",
    "        dcr_score = metric_dcr.evaluate(data_loader_real_train_encoded, data_loader_syn_encoded)\n",
    "\n",
    "        # Append results\n",
    "        method_results.append({\n",
    "            \"dataset_id\": i,\n",
    "            \"ims_score\": ims_score[\"score\"],\n",
    "            \"dcr_score\": dcr_score[\"mean\"],\n",
    "        })\n",
    "\n",
    "        print(f\"{method} - Dataset {i} => IMS: {ims_score['score']:.4f}, DCR: {dcr_score['mean']:.4f}\")\n",
    "\n",
    "    results[method] = method_results\n",
    "\n",
    "# (Optional) Convert to DataFrame for easier analysis\n",
    "import pandas as pd\n",
    "results_df = pd.DataFrame([\n",
    "    {\"method\": method, **entry}\n",
    "    for method, entries in results.items()\n",
    "    for entry in entries\n",
    "])\n"
   ]
  },
  {
   "cell_type": "code",
   "execution_count": 11,
   "id": "907e4deb-6843-43d5-bfa3-a4dcd1f2f6d6",
   "metadata": {},
   "outputs": [
    {
     "name": "stdout",
     "output_type": "stream",
     "text": [
      "       method  dataset_id  ims_score  dcr_score\n",
      "0    synthpop           1   0.004087   0.102337\n",
      "1    synthpop           2   0.002725   0.106001\n",
      "2    synthpop           3   0.000000   0.100250\n",
      "3    synthpop           4   0.000000   0.162765\n",
      "4    synthpop           5   0.002725   0.103626\n",
      "5         arf           1   0.000000   0.112679\n",
      "6         arf           2   0.000000   0.102508\n",
      "7         arf           3   0.000000   0.108523\n",
      "8         arf           4   0.000000   0.140644\n",
      "9         arf           5   0.000000   0.185055\n",
      "10  privbayes           1   0.000000   0.099260\n",
      "11  privbayes           2   0.000000   0.129176\n",
      "12  privbayes           3   0.000000   0.128507\n",
      "13  privbayes           4   0.000000   0.103081\n",
      "14  privbayes           5   0.000000   0.104507\n",
      "15      ctgan           1   0.000000   0.075188\n",
      "16      ctgan           2   0.000000   0.120171\n",
      "17      ctgan           3   0.000000   0.084695\n",
      "18      ctgan           4   0.000000   0.159319\n",
      "19      ctgan           5   0.000000   0.123682\n",
      "20       tvae           1   0.000000   0.053631\n",
      "21       tvae           2   0.000000   0.050789\n",
      "22       tvae           3   0.000000   0.053634\n",
      "23       tvae           4   0.000000   0.050551\n",
      "24       tvae           5   0.000000   0.054678\n",
      "25     tabsyn           1   0.000000   0.180606\n",
      "26     tabsyn           2   0.000000   0.105913\n",
      "27     tabsyn           3   0.000000   0.143954\n",
      "28     tabsyn           4   0.000000   0.207918\n",
      "29     tabsyn           5   0.000000   0.109879\n"
     ]
    }
   ],
   "source": [
    "print(results_df)"
   ]
  },
  {
   "cell_type": "code",
   "execution_count": 12,
   "id": "be1fcc97-a74f-43f3-91ce-557948804dbe",
   "metadata": {},
   "outputs": [
    {
     "name": "stdout",
     "output_type": "stream",
     "text": [
      "Saved: sanity_metric_results_per_dataset.csv\n",
      "Saved: sanity_metric_results_averaged.csv\n"
     ]
    }
   ],
   "source": [
    "# 1. Convert `results` to a flat DataFrame\n",
    "results_df = pd.DataFrame([\n",
    "    {\"method\": method, **entry}\n",
    "    for method, entries in results.items()\n",
    "    for entry in entries\n",
    "])\n",
    "\n",
    "# Save all dataset-level results\n",
    "results_df.to_csv(\"sanity_metric_results_per_dataset.csv\", index=False)\n",
    "print(\"Saved: sanity_metric_results_per_dataset.csv\")\n",
    "\n",
    "# 2. Compute average scores per method\n",
    "average_scores_df = results_df.groupby(\"method\")[[\"ims_score\", \"dcr_score\"]].mean().reset_index()\n",
    "\n",
    "# Save the averaged results\n",
    "average_scores_df.to_csv(\"sanity_metric_results_averaged.csv\", index=False)\n",
    "print(\"Saved: sanity_metric_results_averaged.csv\")"
   ]
  },
  {
   "cell_type": "code",
   "execution_count": null,
   "id": "e0457c40-efba-4810-adc4-db75dba3e81d",
   "metadata": {},
   "outputs": [],
   "source": []
  }
 ],
 "metadata": {
  "kernelspec": {
   "display_name": "Python 3 (ipykernel)",
   "language": "python",
   "name": "python3"
  },
  "language_info": {
   "codemirror_mode": {
    "name": "ipython",
    "version": 3
   },
   "file_extension": ".py",
   "mimetype": "text/x-python",
   "name": "python",
   "nbconvert_exporter": "python",
   "pygments_lexer": "ipython3",
   "version": "3.11.5"
  }
 },
 "nbformat": 4,
 "nbformat_minor": 5
}
