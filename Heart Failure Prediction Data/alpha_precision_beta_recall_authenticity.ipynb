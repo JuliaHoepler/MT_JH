{
 "cells": [
  {
   "cell_type": "code",
   "execution_count": 18,
   "id": "4fd85a03-f3e9-40e6-aab6-d6aa180106ba",
   "metadata": {},
   "outputs": [],
   "source": [
    "import pandas as pd\n",
    "import random\n",
    "import os\n",
    "from synthcity.metrics.eval_statistical import AlphaPrecision\n",
    "from synthcity.plugins.core.dataloader import GenericDataLoader\n",
    "\n",
    "# Load real data once\n",
    "real = pd.read_csv(\"Raw Data/heart_failure_data.csv\")\n",
    "real['tar'] = random.choices([0, 1], k=len(real))\n",
    "data_loader_real = GenericDataLoader(real)\n",
    "data_loader_real_encoded = data_loader_real.encode()[0]"
   ]
  },
  {
   "cell_type": "code",
   "execution_count": 19,
   "id": "2a735349-6a93-46bc-9f45-94b4f2d1e858",
   "metadata": {},
   "outputs": [],
   "source": [
    "methods = [\"synthpop\", \"arf\", \"privbayes\", \"ctgan\", \"tvae\", \"tabsyn\"]\n",
    "num_datasets = 5\n",
    "\n",
    "# Store results\n",
    "results = {}\n",
    "\n",
    "for method in methods:\n",
    "    method_results = []\n",
    "    for i in range(1, num_datasets + 1):\n",
    "        syn_path = f\"Data/{method}/syn_heart_failure_{method}_{i}.csv\"\n",
    "        \n",
    "        if not os.path.exists(syn_path):\n",
    "            print(f\"File not found: {syn_path}\")\n",
    "            continue\n",
    "        \n",
    "        syn = pd.read_csv(syn_path)\n",
    "        syn['tar'] = random.choices([0, 1], k=len(syn))\n",
    "        data_loader_syn = GenericDataLoader(syn)\n",
    "        data_loader_syn_encoded = data_loader_syn.encode()[0]\n",
    "\n",
    "        metric_pra = AlphaPrecision()\n",
    "        pra = metric_pra._evaluate(data_loader_real_encoded, data_loader_syn_encoded)\n",
    "        pra_oc = list(pra.values())[:3]\n",
    "        \n",
    "        method_results.append(pra_oc)\n",
    "    \n",
    "    results[method] = method_results"
   ]
  },
  {
   "cell_type": "code",
   "execution_count": 26,
   "id": "895ec225-023d-4591-9ad2-382ea5835e36",
   "metadata": {},
   "outputs": [
    {
     "name": "stdout",
     "output_type": "stream",
     "text": [
      "{'synthpop': [[0.9691883905541783, 0.5166303558460422, 0.47167755991285404], [0.9790799589312098, 0.4954248366013071, 0.4869281045751634], [0.9791926476848721, 0.49658678286129265, 0.5043572984749455], [0.9816667918763929, 0.48714596949891065, 0.48366013071895425], [0.9598627701399844, 0.4838053740014524, 0.49782135076252726]], 'arf': [[0.9170660856935366, 0.44996368917937546, 0.5315904139433552], [0.9142338416848221, 0.4042846768336965, 0.5337690631808278], [0.9406505897378108, 0.43071895424836604, 0.5065359477124183], [0.9275311146169835, 0.44974582425562815, 0.528322440087146], [0.8742193173565722, 0.40137981118373267, 0.5206971677559913]], 'privbayes': [[0.7201161946259986, 0.25061728395061733, 0.6318082788671024], [0.677923021060276, 0.24444444444444458, 0.6612200435729847], [0.6453885257806826, 0.22810457516339844, 0.6427015250544662], [0.6351488743645606, 0.22962962962962963, 0.6350762527233116], [0.6374001452432825, 0.2404502541757444, 0.664488017429194]], 'ctgan': [[0.855963739263266, 0.43587509077705144, 0.55119825708061], [0.8836325845791702, 0.4433551198257081, 0.5620915032679739], [0.874872912127814, 0.44030501089324614, 0.5435729847494554], [0.8625272331154684, 0.4501815541031229, 0.5272331154684096], [0.8590363859464603, 0.4482207697893973, 0.5522875816993464]], 'tvae': [[0.970094908972529, 0.4742919389978213, 0.5098039215686274], [0.9696591791250344, 0.49651416122004366, 0.4869281045751634], [0.9698595146871009, 0.5126361655773419, 0.49455337690631807], [0.9720006010066862, 0.47320261437908495, 0.46078431372549017], [0.9775874589938146, 0.4860566448801743, 0.5032679738562091]], 'tabsyn': [[0.9786842961961285, 0.5124183006535947, 0.5119825708061002], [0.9679963939598828, 0.5628177196804648, 0.4651416122004357], [0.9369644153957879, 0.5167029774872912, 0.5], [0.971101595171913, 0.47349310094408137, 0.5185185185185185], [0.9581348759171613, 0.5071169208424111, 0.4891067538126362]]}\n"
     ]
    }
   ],
   "source": [
    "print(results)"
   ]
  },
  {
   "cell_type": "code",
   "execution_count": 23,
   "id": "9c911eb4-1856-41b5-ba0e-16f5266429a1",
   "metadata": {},
   "outputs": [
    {
     "name": "stdout",
     "output_type": "stream",
     "text": [
      "Long-format results saved to alpha_precision_results_long.csv\n"
     ]
    }
   ],
   "source": [
    "# Define metric names\n",
    "metric_names = [\"alpha_precision\", \"beta_recall\", \"authenticity\"]\n",
    "\n",
    "# Build long-format rows\n",
    "rows = []\n",
    "for method, method_results in results.items():\n",
    "    for i, pra_values in enumerate(method_results, 1):\n",
    "        for metric_index, metric_name in enumerate(metric_names):\n",
    "            value = pra_values[metric_index] if len(pra_values) > metric_index else None\n",
    "            rows.append({\n",
    "                \"method\": method,\n",
    "                \"dataset_index\": i,\n",
    "                \"metric\": metric_name,\n",
    "                \"value\": value\n",
    "            })\n",
    "\n",
    "# Create DataFrame\n",
    "df_long = pd.DataFrame(rows)\n",
    "\n",
    "# Save to CSV\n",
    "df_long.to_csv(\"alpha_precision_results_long.csv\", index=False)\n",
    "print(\"Long-format results saved to alpha_precision_results_long.csv\")"
   ]
  },
  {
   "cell_type": "code",
   "execution_count": 24,
   "id": "8edcd2fb-6ffb-4c96-a436-b9565fe4228f",
   "metadata": {},
   "outputs": [
    {
     "name": "stdout",
     "output_type": "stream",
     "text": [
      "     method  dataset_index           metric     value\n",
      "0  synthpop              1  alpha_precision  0.969188\n",
      "1  synthpop              1      beta_recall  0.516630\n",
      "2  synthpop              1     authenticity  0.471678\n",
      "3  synthpop              2  alpha_precision  0.979080\n",
      "4  synthpop              2      beta_recall  0.495425\n"
     ]
    }
   ],
   "source": [
    "print(df_long.head())"
   ]
  },
  {
   "cell_type": "code",
   "execution_count": 25,
   "id": "10e1229b-f738-42c1-a6ce-5df19df6cfd2",
   "metadata": {},
   "outputs": [
    {
     "name": "stdout",
     "output_type": "stream",
     "text": [
      "Mittelwerte pro Methode gespeichert in alpha_precision_results_means.csv\n"
     ]
    }
   ],
   "source": [
    "# Berechne den Mittelwert pro Methode und Metrik\n",
    "mean_df = df_long.groupby([\"method\", \"metric\"])[\"value\"].mean().reset_index()\n",
    "\n",
    "# Optional: schöner formatieren\n",
    "mean_df = mean_df.pivot(index=\"method\", columns=\"metric\", values=\"value\").reset_index()\n",
    "\n",
    "# Speichern als CSV\n",
    "mean_df.to_csv(\"alpha_precision_results_means.csv\", index=False)\n",
    "print(\"Mittelwerte pro Methode gespeichert in alpha_precision_results_means.csv\")"
   ]
  },
  {
   "cell_type": "code",
   "execution_count": null,
   "id": "548d6b96-2b67-42a7-8b52-183b37a67d9b",
   "metadata": {},
   "outputs": [],
   "source": []
  }
 ],
 "metadata": {
  "kernelspec": {
   "display_name": "Python 3 (ipykernel)",
   "language": "python",
   "name": "python3"
  },
  "language_info": {
   "codemirror_mode": {
    "name": "ipython",
    "version": 3
   },
   "file_extension": ".py",
   "mimetype": "text/x-python",
   "name": "python",
   "nbconvert_exporter": "python",
   "pygments_lexer": "ipython3",
   "version": "3.11.5"
  }
 },
 "nbformat": 4,
 "nbformat_minor": 5
}
