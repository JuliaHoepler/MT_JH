{
 "cells": [
  {
   "cell_type": "code",
   "execution_count": 14,
   "id": "4fd85a03-f3e9-40e6-aab6-d6aa180106ba",
   "metadata": {},
   "outputs": [],
   "source": [
    "import pandas as pd\n",
    "import random\n",
    "import os\n",
    "from synthcity.metrics.eval_statistical import AlphaPrecision\n",
    "from synthcity.plugins.core.dataloader import GenericDataLoader\n",
    "\n",
    "# Load real data once\n",
    "real = pd.read_csv(\"Raw Data/heart_failure_data.csv\")\n",
    "real['tar'] = random.choices([0, 1], k=len(real))\n",
    "data_loader_real = GenericDataLoader(real)\n",
    "data_loader_real_encoded = data_loader_real.encode()[0]"
   ]
  },
  {
   "cell_type": "code",
   "execution_count": 15,
   "id": "2a735349-6a93-46bc-9f45-94b4f2d1e858",
   "metadata": {},
   "outputs": [],
   "source": [
    "methods = [\"synthpop\", \"arf\", \"privbayes\", \"ctgan\", \"tvae\", \"tabsyn\"]\n",
    "num_datasets = 5\n",
    "\n",
    "# Store results\n",
    "results = {}\n",
    "\n",
    "for method in methods:\n",
    "    method_results = []\n",
    "    for i in range(1, num_datasets + 1):\n",
    "        syn_path = f\"Data/{method}/syn_heart_failure_{method}_{i}.csv\"\n",
    "        \n",
    "        if not os.path.exists(syn_path):\n",
    "            print(f\"File not found: {syn_path}\")\n",
    "            continue\n",
    "        \n",
    "        syn = pd.read_csv(syn_path)\n",
    "        syn['tar'] = random.choices([0, 1], k=len(syn))\n",
    "        data_loader_syn = GenericDataLoader(syn)\n",
    "        data_loader_syn_encoded = data_loader_syn.encode()[0]\n",
    "\n",
    "        metric_pra = AlphaPrecision()\n",
    "        pra = metric_pra._evaluate(data_loader_real_encoded, data_loader_syn_encoded)\n",
    "        pra_oc = list(pra.values())[:3]\n",
    "        \n",
    "        method_results.append(pra_oc)\n",
    "    \n",
    "    results[method] = method_results"
   ]
  },
  {
   "cell_type": "code",
   "execution_count": 16,
   "id": "9c911eb4-1856-41b5-ba0e-16f5266429a1",
   "metadata": {},
   "outputs": [
    {
     "name": "stdout",
     "output_type": "stream",
     "text": [
      "Long-format results saved to alpha_precision_results_long.csv\n"
     ]
    }
   ],
   "source": [
    "# Define metric names\n",
    "metric_names = [\"alpha_precision\", \"beta_recall\", \"authenticity\"]\n",
    "\n",
    "# Build long-format rows\n",
    "rows = []\n",
    "for method, method_results in results.items():\n",
    "    for i, pra_values in enumerate(method_results, 1):\n",
    "        for metric_index, metric_name in enumerate(metric_names):\n",
    "            value = pra_values[metric_index] if len(pra_values) > metric_index else None\n",
    "            rows.append({\n",
    "                \"method\": method,\n",
    "                \"dataset_index\": i,\n",
    "                \"metric\": metric_name,\n",
    "                \"value\": value\n",
    "            })\n",
    "\n",
    "# Create DataFrame\n",
    "df_long = pd.DataFrame(rows)\n",
    "\n",
    "# Save to CSV\n",
    "df_long.to_csv(\"alpha_precision_results_long.csv\", index=False)\n",
    "print(\"Long-format results saved to alpha_precision_results_long.csv\")"
   ]
  },
  {
   "cell_type": "code",
   "execution_count": 12,
   "id": "8edcd2fb-6ffb-4c96-a436-b9565fe4228f",
   "metadata": {},
   "outputs": [
    {
     "name": "stdout",
     "output_type": "stream",
     "text": [
      "     method  dataset_index           metric     value\n",
      "0  synthpop              1  alpha_precision  0.966714\n",
      "1  synthpop              1      beta_recall  0.510675\n",
      "2  synthpop              1     authenticity  0.489107\n",
      "3  synthpop              2  alpha_precision  0.976866\n",
      "4  synthpop              2      beta_recall  0.519027\n"
     ]
    }
   ],
   "source": [
    "print(df_long.head())"
   ]
  },
  {
   "cell_type": "code",
   "execution_count": 17,
   "id": "10e1229b-f738-42c1-a6ce-5df19df6cfd2",
   "metadata": {},
   "outputs": [
    {
     "name": "stdout",
     "output_type": "stream",
     "text": [
      "Mittelwerte pro Methode gespeichert in alpha_precision_results_means.csv\n"
     ]
    }
   ],
   "source": [
    "# Berechne den Mittelwert pro Methode und Metrik\n",
    "mean_df = df_long.groupby([\"method\", \"metric\"])[\"value\"].mean().reset_index()\n",
    "\n",
    "# Optional: schöner formatieren\n",
    "mean_df = mean_df.pivot(index=\"method\", columns=\"metric\", values=\"value\").reset_index()\n",
    "\n",
    "# Speichern als CSV\n",
    "mean_df.to_csv(\"alpha_precision_results_means.csv\", index=False)\n",
    "print(\"Mittelwerte pro Methode gespeichert in alpha_precision_results_means.csv\")"
   ]
  },
  {
   "cell_type": "code",
   "execution_count": null,
   "id": "548d6b96-2b67-42a7-8b52-183b37a67d9b",
   "metadata": {},
   "outputs": [],
   "source": []
  }
 ],
 "metadata": {
  "kernelspec": {
   "display_name": "Python 3 (ipykernel)",
   "language": "python",
   "name": "python3"
  },
  "language_info": {
   "codemirror_mode": {
    "name": "ipython",
    "version": 3
   },
   "file_extension": ".py",
   "mimetype": "text/x-python",
   "name": "python",
   "nbconvert_exporter": "python",
   "pygments_lexer": "ipython3",
   "version": "3.11.5"
  }
 },
 "nbformat": 4,
 "nbformat_minor": 5
}
